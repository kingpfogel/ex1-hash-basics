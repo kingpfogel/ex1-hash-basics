{
 "cells": [
  {
   "cell_type": "code",
   "execution_count": null,
   "metadata": {},
   "outputs": [],
   "source": [
    "import simexpal\n",
    "import yaml\n",
    "\n",
    "cfg = simexpal.config_for_dir()\n",
    "\n",
    "results = []\n",
    "for run in cfg.collect_successful_results():\n",
    "    with run.open_output_file() as f:\n",
    "        yml = yaml.load(f, Loader=yaml.SafeLoader)\n",
    "    results.append(yml)\n",
    "\n",
    "results= sorted(results, key=lambda r: (r['algo'], r['fill_factor']))   \n",
    "\n",
    "def getValues(key, algo):\n",
    "    return [result[key] for result in results if result['algo'] == algo]\n",
    "\n",
    "algos = ['chaining', 'linear', 'stl']\n",
    "keys = ['time_insert', 'time_lookup']\n",
    "\n",
    "for key in keys:\n",
    "    for algo in algos:\n",
    "        # plotting the lines\n",
    "        plt.plot(getValues('fill_factor', algo), getValues(key, algo), label = algo)\n",
    "        #set labels\n",
    "\n",
    "    plt.xlabel('Fill Factor')\n",
    "    plt.ylabel(key)\n",
    "    # Set title\n",
    "    plt.title('Fill Factor vs. '+key)\n",
    "    # show a legend on the plot\n",
    "    plt.legend()\n",
    "    # Display a figure.\n",
    "    plt.show()\n",
    "    "
   ]
  }
 ],
 "metadata": {
  "kernelspec": {
   "display_name": "Python 3",
   "language": "python",
   "name": "python3"
  },
  "language_info": {
   "codemirror_mode": {
    "name": "ipython",
    "version": 3
   },
   "file_extension": ".py",
   "mimetype": "text/x-python",
   "name": "python",
   "nbconvert_exporter": "python",
   "pygments_lexer": "ipython3",
   "version": "3.8.6"
  }
 },
 "nbformat": 4,
 "nbformat_minor": 2
}
